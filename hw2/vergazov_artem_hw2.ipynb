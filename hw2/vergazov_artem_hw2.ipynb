{
 "cells": [
  {
   "cell_type": "markdown",
   "metadata": {},
   "source": [
    "# Problem 1. Fluctuations and KL Divergence"
   ]
  },
  {
   "cell_type": "markdown",
   "metadata": {},
   "source": [
    "## 1.1\n",
    "\n",
    "Here after, $f$ as the lower index denotes that the indexed function is understood in the sense of fluctuations $\\Delta r(w) = r(w) - <r>^a$ as the RV. For example, $G_f(k)$ is the characteristic function of fluctuations.\n",
    "\n",
    "![Handwritten solution. Contact me if unavailable](1.1.jpg)"
   ]
  },
  {
   "cell_type": "markdown",
   "metadata": {},
   "source": [
    "## 1.2\n",
    "\n",
    "![Handwritten solution. Contact me if unavailable](1.2.jpg)"
   ]
  },
  {
   "cell_type": "markdown",
   "metadata": {},
   "source": [
    "## 1.3\n",
    "\n",
    "![Handwritten solution. Contact me if unavailable](1.3.jpg)"
   ]
  },
  {
   "cell_type": "markdown",
   "metadata": {},
   "source": [
    "## 1.4\n",
    "\n",
    "![Handwritten solution. Contact me if unavailable](1.4.jpg)"
   ]
  },
  {
   "cell_type": "markdown",
   "metadata": {},
   "source": [
    "## 1.5\n",
    "\n",
    "![Handwritten solution. Contact me if unavailable](1.5.1.jpg)\n",
    "\n",
    "![Handwritten solution. Contact me if unavailable](1.5.2.jpg)"
   ]
  },
  {
   "cell_type": "markdown",
   "metadata": {},
   "source": [
    "# Problem 2: MLE with scipy.minimize\n",
    "\n",
    "One needs to find which source distribution was most likely used to generate `unknown_sample.txt`\n",
    "\n",
    "- Gamma distribution, where $k$ is shape, $\\theta = 1$ is scale, $\\Gamma$ is Gamma function\n",
    "\n",
    "$$p_{gamma}(x) = x^{k-1} \\ \\frac{e^{-x/\\theta}}{\\theta^k \\ \\Gamma(k)}$$\n",
    "\n",
    "\n",
    "- or Gumbel distribution, where $\\mu$ is the mode, and $\\beta=1$ is the scale\n",
    "\n",
    "$$ p_{gumbel}(x) = \\frac{e^{-(x - \\mu)/ \\beta}}{\\beta} e^{ -e^{-(x - \\mu)/ \\beta}} $$\n",
    "\n",
    "\n",
    "In this task we ask you to use `scipy.minimize` to maximize $\\log L$, i.e. minimize its negative value.\n",
    "Scale parameters $\\theta$ and $\\beta$ here are constant and equal to 1 for both distributions, so you can simpify PDFs."
   ]
  },
  {
   "cell_type": "markdown",
   "metadata": {},
   "source": [
    "### Restoring the true distribution\n",
    "Write down the likelihood $L$ and  the negative log-likelihood  for $p_{gamma}(x, k)$, $p_{gumbel}(x, \\mu)$ and sample $x = \\{x_0, ..., x_n\\}$\n",
    "\n"
   ]
  },
  {
   "cell_type": "markdown",
   "metadata": {},
   "source": [
    "In the code block below sample `x` is already imported as a global variable. Implement `neg_loglikelihood_gamma` as a function of $k$ and `neg_loglikelihood_gumbel` as a function of $\\mu$. Use numpy and scipy.special where needed.\n",
    "\n",
    "Run the minimizer with given initial parameters using this call\n",
    "\n",
    "    result = minimize(func, init_param, method = 'Nelder-Mead', options={'disp': True})\n",
    "\n",
    "Check the result. Answer the following questions\n",
    "\n",
    "1. What is the most probable value of shape $\\hat{k}$ if the distribution was $p_{gamma}$?\n",
    "\n",
    "\n",
    "2. What is the most probable value of mode $\\hat{\\mu}$ if the distribution was $p_{gumbel}$?\n",
    "\n",
    "\n",
    "3. Which distribution has the highest probability to be the true one?\n",
    "\n",
    "Ensure that your solution is correct by plotting both PDFs with found $\\hat{k}$ and $\\hat{\\mu}$ over the histogram of the sample."
   ]
  },
  {
   "cell_type": "code",
   "execution_count": 6,
   "metadata": {},
   "outputs": [],
   "source": [
    "import matplotlib.pyplot as plt\n",
    "import numpy as np\n",
    "import scipy\n",
    "from scipy.optimize import minimize"
   ]
  },
  {
   "cell_type": "code",
   "execution_count": 14,
   "metadata": {},
   "outputs": [],
   "source": [
    "x = np.loadtxt('unknown_sample.txt')\n",
    "\n",
    "neg_log_likelihood_gamma = lambda k: -((k - 1) * np.log(x) - x - np.log(scipy.special.gamma(k))).sum()\n",
    "neg_log_likelihood_gumbel = lambda mu: ((x - mu) + np.exp(-(x - mu))).sum()\n",
    "\n",
    "gamma_k0 = 0.1\n",
    "gumbel_mu0 = 0.1"
   ]
  },
  {
   "cell_type": "code",
   "execution_count": 15,
   "metadata": {},
   "outputs": [
    {
     "name": "stdout",
     "output_type": "stream",
     "text": [
      "Optimization terminated successfully.\n",
      "         Current function value: 1556.225845\n",
      "         Iterations: 22\n",
      "         Function evaluations: 44\n"
     ]
    },
    {
     "data": {
      "text/plain": [
       " final_simplex: (array([[2.16945313],\n",
       "       [2.16953125]]), array([1556.22584461, 1556.22584537]))\n",
       "           fun: 1556.2258446071746\n",
       "       message: 'Optimization terminated successfully.'\n",
       "          nfev: 44\n",
       "           nit: 22\n",
       "        status: 0\n",
       "       success: True\n",
       "             x: array([2.16945313])"
      ]
     },
     "execution_count": 15,
     "metadata": {},
     "output_type": "execute_result"
    }
   ],
   "source": [
    "res_gamma = minimize(neg_log_likelihood_gamma, gamma_k0, method='Nelder-Mead', options={'disp': True})\n",
    "res_gamma"
   ]
  },
  {
   "cell_type": "code",
   "execution_count": 16,
   "metadata": {},
   "outputs": [
    {
     "name": "stdout",
     "output_type": "stream",
     "text": [
      "Optimization terminated successfully.\n",
      "         Current function value: 1552.163758\n",
      "         Iterations: 21\n",
      "         Function evaluations: 42\n"
     ]
    },
    {
     "data": {
      "text/plain": [
       " final_simplex: (array([[1.539375  ],\n",
       "       [1.53945313]]), array([1552.16375829, 1552.16375987]))\n",
       "           fun: 1552.1637582858993\n",
       "       message: 'Optimization terminated successfully.'\n",
       "          nfev: 42\n",
       "           nit: 21\n",
       "        status: 0\n",
       "       success: True\n",
       "             x: array([1.539375])"
      ]
     },
     "execution_count": 16,
     "metadata": {},
     "output_type": "execute_result"
    }
   ],
   "source": [
    "res_gumbel = minimize(neg_log_likelihood_gumbel, gumbel_mu0, method='Nelder-Mead', options={'disp': True})\n",
    "res_gumbel"
   ]
  },
  {
   "cell_type": "markdown",
   "metadata": {},
   "source": [
    "For gamma distribution, the most probable value of shape $\\hat{k} = 2.17$ with negative log-likelihood equal to $1556$. For gumbel distribution, the most probable value of mode $\\hat{\\mu} = 1.54$ with negative log-likelihood equal to $1552$. Gumbel distribution is more likely to be the true distribution because it has less value of negative log-likelihood."
   ]
  },
  {
   "cell_type": "code",
   "execution_count": 17,
   "metadata": {},
   "outputs": [
    {
     "data": {
      "image/png": "[encoded data removed]",
      "image/svg+xml": "<?xml version=\"1.0\" encoding=\"utf-8\" standalone=\"no\"?>\n<!DOCTYPE svg PUBLIC \"-//W3C//DTD SVG 1.1//EN\"\n  \"http://www.w3.org/Graphics/SVG/1.1/DTD/svg11.dtd\">\n<svg xmlns:xlink=\"http://www.w3.org/1999/xlink\" width=\"400.785625pt\" height=\"297.190125pt\" viewBox=\"0 0 400.785625 297.190125\" xmlns=\"http://www.w3.org/2000/svg\" version=\"1.1\">\n <metadata>\n  <rdf:RDF xmlns:dc=\"http://purl.org/dc/elements/1.1/\" xmlns:cc=\"http://creativecommons.org/ns#\" xmlns:rdf=\"http://www.w3.org/1999/02/22-rdf-syntax-ns#\">\n   <cc:Work>\n    <dc:type rdf:resource=\"http://purl.org/dc/dcmitype/StillImage\"/>\n    <dc:date>2022-11-18T05:49:24.103857</dc:date>\n    <dc:format>image/svg+xml</dc:format>\n    <dc:creator>\n     <cc:Agent>\n      <dc:title>Matplotlib v3.6.2, https://matplotlib.org/</dc:title>\n     </cc:Agent>\n    </dc:creator>\n   </cc:Work>\n  </rdf:RDF>\n </metadata>\n <defs>\n  <style type=\"text/css\">*{stroke-linejoin: round; stroke-linecap: butt}</style>\n </defs>\n <g id=\"figure_1\">\n  <g id=\"patch_1\">\n   <path d=\"M 0 297.190125 \nL 400.785625 297.190125 \nL 400.785625 0 \nL 0 0 \nz\n\" style=\"fill: #ffffff\"/>\n  </g>\n  <g id=\"axes_1\">\n   <g id=\"patch_2\">\n    <path d=\"M 36.465625 273.312 \nL 393.585625 273.312 \nL 393.585625 7.2 \nL 36.465625 7.2 \nz\n\" style=\"fill: #ffffff\"/>\n   </g>\n   <g id=\"patch_3\">\n    <path d=\"M 52.698352 273.312 \nL 59.191443 273.312 \nL 59.191443 225.792 \nL 52.698352 225.792 \nz\n\" clip-path=\"url(#pca54594887)\" style=\"fill: #1f77b4\"/>\n   </g>\n   <g id=\"patch_4\">\n    <path d=\"M 59.191443 273.312 \nL 65.684534 273.312 \nL 65.684534 162.432 \nL 59.191443 162.432 \nz\n\" clip-path=\"url(#pca54594887)\" style=\"fill: #1f77b4\"/>\n   </g>\n   <g id=\"patch_5\">\n    <path d=\"M 65.684534 273.312 \nL 72.177625 273.312 \nL 72.177625 198.072 \nL 65.684534 198.072 \nz\n\" clip-path=\"url(#pca54594887)\" style=\"fill: #1f77b4\"/>\n   </g>\n   <g id=\"patch_6\">\n    <path d=\"M 72.177625 273.312 \nL 78.670716 273.312 \nL 78.670716 150.552 \nL 72.177625 150.552 \nz\n\" clip-path=\"url(#pca54594887)\" style=\"fill: #1f77b4\"/>\n   </g>\n   <g id=\"patch_7\">\n    <path d=\"M 78.670716 273.312 \nL 85.163807 273.312 \nL 85.163807 91.152 \nL 78.670716 91.152 \nz\n\" clip-path=\"url(#pca54594887)\" style=\"fill: #1f77b4\"/>\n   </g>\n   <g id=\"patch_8\">\n    <path d=\"M 85.163807 273.312 \nL 91.656898 273.312 \nL 91.656898 71.352 \nL 85.163807 71.352 \nz\n\" clip-path=\"url(#pca54594887)\" style=\"fill: #1f77b4\"/>\n   </g>\n   <g id=\"patch_9\">\n    <path d=\"M 91.656898 273.312 \nL 98.149989 273.312 \nL 98.149989 110.952 \nL 91.656898 110.952 \nz\n\" clip-path=\"url(#pca54594887)\" style=\"fill: #1f77b4\"/>\n   </g>\n   <g id=\"patch_10\">\n    <path d=\"M 98.149989 273.312 \nL 104.64308 273.312 \nL 104.64308 55.512 \nL 98.149989 55.512 \nz\n\" clip-path=\"url(#pca54594887)\" style=\"fill: #1f77b4\"/>\n   </g>\n   <g id=\"patch_11\">\n    <path d=\"M 104.64308 273.312 \nL 111.13617 273.312 \nL 111.13617 27.792 \nL 104.64308 27.792 \nz\n\" clip-path=\"url(#pca54594887)\" style=\"fill: #1f77b4\"/>\n   </g>\n   <g id=\"patch_12\">\n    <path d=\"M 111.13617 273.312 \nL 117.629261 273.312 \nL 117.629261 55.512 \nL 111.13617 55.512 \nz\n\" clip-path=\"url(#pca54594887)\" style=\"fill: #1f77b4\"/>\n   </g>\n   <g id=\"patch_13\">\n    <path d=\"M 117.629261 273.312 \nL 124.122352 273.312 \nL 124.122352 19.872 \nL 117.629261 19.872 \nz\n\" clip-path=\"url(#pca54594887)\" style=\"fill: #1f77b4\"/>\n   </g>\n   <g id=\"patch_14\">\n    <path d=\"M 124.122352 273.312 \nL 130.615443 273.312 \nL 130.615443 31.752 \nL 124.122352 31.752 \nz\n\" clip-path=\"url(#pca54594887)\" style=\"fill: #1f77b4\"/>\n   </g>\n   <g id=\"patch_15\">\n    <path d=\"M 130.615443 273.312 \nL 137.108534 273.312 \nL 137.108534 91.152 \nL 130.615443 91.152 \nz\n\" clip-path=\"url(#pca54594887)\" style=\"fill: #1f77b4\"/>\n   </g>\n   <g id=\"patch_16\">\n    <path d=\"M 137.108534 273.312 \nL 143.601625 273.312 \nL 143.601625 106.992 \nL 137.108534 106.992 \nz\n\" clip-path=\"url(#pca54594887)\" style=\"fill: #1f77b4\"/>\n   </g>\n   <g id=\"patch_17\">\n    <path d=\"M 143.601625 273.312 \nL 150.094716 273.312 \nL 150.094716 103.032 \nL 143.601625 103.032 \nz\n\" clip-path=\"url(#pca54594887)\" style=\"fill: #1f77b4\"/>\n   </g>\n   <g id=\"patch_18\">\n    <path d=\"M 150.094716 273.312 \nL 156.587807 273.312 \nL 156.587807 122.832 \nL 150.094716 122.832 \nz\n\" clip-path=\"url(#pca54594887)\" style=\"fill: #1f77b4\"/>\n   </g>\n   <g id=\"patch_19\">\n    <path d=\"M 156.587807 273.312 \nL 163.080898 273.312 \nL 163.080898 138.672 \nL 156.587807 138.672 \nz\n\" clip-path=\"url(#pca54594887)\" style=\"fill: #1f77b4\"/>\n   </g>\n   <g id=\"patch_20\">\n    <path d=\"M 163.080898 273.312 \nL 169.573989 273.312 \nL 169.573989 146.592 \nL 163.080898 146.592 \nz\n\" clip-path=\"url(#pca54594887)\" style=\"fill: #1f77b4\"/>\n   </g>\n   <g id=\"patch_21\">\n    <path d=\"M 169.573989 273.312 \nL 176.06708 273.312 \nL 176.06708 174.312 \nL 169.573989 174.312 \nz\n\" clip-path=\"url(#pca54594887)\" style=\"fill: #1f77b4\"/>\n   </g>\n   <g id=\"patch_22\">\n    <path d=\"M 176.06708 273.312 \nL 182.56017 273.312 \nL 182.56017 150.552 \nL 176.06708 150.552 \nz\n\" clip-path=\"url(#pca54594887)\" style=\"fill: #1f77b4\"/>\n   </g>\n   <g id=\"patch_23\">\n    <path d=\"M 182.56017 273.312 \nL 189.053261 273.312 \nL 189.053261 162.432 \nL 182.56017 162.432 \nz\n\" clip-path=\"url(#pca54594887)\" style=\"fill: #1f77b4\"/>\n   </g>\n   <g id=\"patch_24\">\n    <path d=\"M 189.053261 273.312 \nL 195.546352 273.312 \nL 195.546352 205.992 \nL 189.053261 205.992 \nz\n\" clip-path=\"url(#pca54594887)\" style=\"fill: #1f77b4\"/>\n   </g>\n   <g id=\"patch_25\">\n    <path d=\"M 195.546352 273.312 \nL 202.039443 273.312 \nL 202.039443 186.192 \nL 195.546352 186.192 \nz\n\" clip-path=\"url(#pca54594887)\" style=\"fill: #1f77b4\"/>\n   </g>\n   <g id=\"patch_26\">\n    <path d=\"M 202.039443 273.312 \nL 208.532534 273.312 \nL 208.532534 202.032 \nL 202.039443 202.032 \nz\n\" clip-path=\"url(#pca54594887)\" style=\"fill: #1f77b4\"/>\n   </g>\n   <g id=\"patch_27\">\n    <path d=\"M 208.532534 273.312 \nL 215.025625 273.312 \nL 215.025625 217.872 \nL 208.532534 217.872 \nz\n\" clip-path=\"url(#pca54594887)\" style=\"fill: #1f77b4\"/>\n   </g>\n   <g id=\"patch_28\">\n    <path d=\"M 215.025625 273.312 \nL 221.518716 273.312 \nL 221.518716 241.632 \nL 215.025625 241.632 \nz\n\" clip-path=\"url(#pca54594887)\" style=\"fill: #1f77b4\"/>\n   </g>\n   <g id=\"patch_29\">\n    <path d=\"M 221.518716 273.312 \nL 228.011807 273.312 \nL 228.011807 241.632 \nL 221.518716 241.632 \nz\n\" clip-path=\"url(#pca54594887)\" style=\"fill: #1f77b4\"/>\n   </g>\n   <g id=\"patch_30\">\n    <path d=\"M 228.011807 273.312 \nL 234.504898 273.312 \nL 234.504898 221.832 \nL 228.011807 221.832 \nz\n\" clip-path=\"url(#pca54594887)\" style=\"fill: #1f77b4\"/>\n   </g>\n   <g id=\"patch_31\">\n    <path d=\"M 234.504898 273.312 \nL 240.997989 273.312 \nL 240.997989 245.592 \nL 234.504898 245.592 \nz\n\" clip-path=\"url(#pca54594887)\" style=\"fill: #1f77b4\"/>\n   </g>\n   <g id=\"patch_32\">\n    <path d=\"M 240.997989 273.312 \nL 247.49108 273.312 \nL 247.49108 237.672 \nL 240.997989 237.672 \nz\n\" clip-path=\"url(#pca54594887)\" style=\"fill: #1f77b4\"/>\n   </g>\n   <g id=\"patch_33\">\n    <path d=\"M 247.49108 273.312 \nL 253.98417 273.312 \nL 253.98417 253.512 \nL 247.49108 253.512 \nz\n\" clip-path=\"url(#pca54594887)\" style=\"fill: #1f77b4\"/>\n   </g>\n   <g id=\"patch_34\">\n    <path d=\"M 253.98417 273.312 \nL 260.477261 273.312 \nL 260.477261 261.432 \nL 253.98417 261.432 \nz\n\" clip-path=\"url(#pca54594887)\" style=\"fill: #1f77b4\"/>\n   </g>\n   <g id=\"patch_35\">\n    <path d=\"M 260.477261 273.312 \nL 266.970352 273.312 \nL 266.970352 261.432 \nL 260.477261 261.432 \nz\n\" clip-path=\"url(#pca54594887)\" style=\"fill: #1f77b4\"/>\n   </g>\n   <g id=\"patch_36\">\n    <path d=\"M 266.970352 273.312 \nL 273.463443 273.312 \nL 273.463443 269.352 \nL 266.970352 269.352 \nz\n\" clip-path=\"url(#pca54594887)\" style=\"fill: #1f77b4\"/>\n   </g>\n   <g id=\"patch_37\">\n    <path d=\"M 273.463443 273.312 \nL 279.956534 273.312 \nL 279.956534 257.472 \nL 273.463443 257.472 \nz\n\" clip-path=\"url(#pca54594887)\" style=\"fill: #1f77b4\"/>\n   </g>\n   <g id=\"patch_38\">\n    <path d=\"M 279.956534 273.312 \nL 286.449625 273.312 \nL 286.449625 249.552 \nL 279.956534 249.552 \nz\n\" clip-path=\"url(#pca54594887)\" style=\"fill: #1f77b4\"/>\n   </g>\n   <g id=\"patch_39\">\n    <path d=\"M 286.449625 273.312 \nL 292.942716 273.312 \nL 292.942716 261.432 \nL 286.449625 261.432 \nz\n\" clip-path=\"url(#pca54594887)\" style=\"fill: #1f77b4\"/>\n   </g>\n   <g id=\"patch_40\">\n    <path d=\"M 292.942716 273.312 \nL 299.435807 273.312 \nL 299.435807 261.432 \nL 292.942716 261.432 \nz\n\" clip-path=\"url(#pca54594887)\" style=\"fill: #1f77b4\"/>\n   </g>\n   <g id=\"patch_41\">\n    <path d=\"M 299.435807 273.312 \nL 305.928898 273.312 \nL 305.928898 273.312 \nL 299.435807 273.312 \nz\n\" clip-path=\"url(#pca54594887)\" style=\"fill: #1f77b4\"/>\n   </g>\n   <g id=\"patch_42\">\n    <path d=\"M 305.928898 273.312 \nL 312.421989 273.312 \nL 312.421989 273.312 \nL 305.928898 273.312 \nz\n\" clip-path=\"url(#pca54594887)\" style=\"fill: #1f77b4\"/>\n   </g>\n   <g id=\"patch_43\">\n    <path d=\"M 312.421989 273.312 \nL 318.91508 273.312 \nL 318.91508 269.352 \nL 312.421989 269.352 \nz\n\" clip-path=\"url(#pca54594887)\" style=\"fill: #1f77b4\"/>\n   </g>\n   <g id=\"patch_44\">\n    <path d=\"M 318.91508 273.312 \nL 325.40817 273.312 \nL 325.40817 273.312 \nL 318.91508 273.312 \nz\n\" clip-path=\"url(#pca54594887)\" style=\"fill: #1f77b4\"/>\n   </g>\n   <g id=\"patch_45\">\n    <path d=\"M 325.40817 273.312 \nL 331.901261 273.312 \nL 331.901261 269.352 \nL 325.40817 269.352 \nz\n\" clip-path=\"url(#pca54594887)\" style=\"fill: #1f77b4\"/>\n   </g>\n   <g id=\"patch_46\">\n    <path d=\"M 331.901261 273.312 \nL 338.394352 273.312 \nL 338.394352 269.352 \nL 331.901261 269.352 \nz\n\" clip-path=\"url(#pca54594887)\" style=\"fill: #1f77b4\"/>\n   </g>\n   <g id=\"patch_47\">\n    <path d=\"M 338.394352 273.312 \nL 344.887443 273.312 \nL 344.887443 273.312 \nL 338.394352 273.312 \nz\n\" clip-path=\"url(#pca54594887)\" style=\"fill: #1f77b4\"/>\n   </g>\n   <g id=\"patch_48\">\n    <path d=\"M 344.887443 273.312 \nL 351.380534 273.312 \nL 351.380534 273.312 \nL 344.887443 273.312 \nz\n\" clip-path=\"url(#pca54594887)\" style=\"fill: #1f77b4\"/>\n   </g>\n   <g id=\"patch_49\">\n    <path d=\"M 351.380534 273.312 \nL 357.873625 273.312 \nL 357.873625 269.352 \nL 351.380534 269.352 \nz\n\" clip-path=\"url(#pca54594887)\" style=\"fill: #1f77b4\"/>\n   </g>\n   <g id=\"patch_50\">\n    <path d=\"M 357.873625 273.312 \nL 364.366716 273.312 \nL 364.366716 273.312 \nL 357.873625 273.312 \nz\n\" clip-path=\"url(#pca54594887)\" style=\"fill: #1f77b4\"/>\n   </g>\n   <g id=\"patch_51\">\n    <path d=\"M 364.366716 273.312 \nL 370.859807 273.312 \nL 370.859807 269.352 \nL 364.366716 269.352 \nz\n\" clip-path=\"url(#pca54594887)\" style=\"fill: #1f77b4\"/>\n   </g>\n   <g id=\"patch_52\">\n    <path d=\"M 370.859807 273.312 \nL 377.352898 273.312 \nL 377.352898 269.352 \nL 370.859807 269.352 \nz\n\" clip-path=\"url(#pca54594887)\" style=\"fill: #1f77b4\"/>\n   </g>\n   <g id=\"matplotlib.axis_1\">\n    <g id=\"xtick_1\">\n     <g id=\"line2d_1\">\n      <defs>\n       <path id=\"m6cbab80628\" d=\"M 0 0 \nL 0 3.5 \n\" style=\"stroke: #000000; stroke-width: 0.8\"/>\n      </defs>\n      <g>\n       <use xlink:href=\"#m6cbab80628\" x=\"51.5494\" y=\"273.312\" style=\"stroke: #000000; stroke-width: 0.8\"/>\n      </g>\n     </g>\n     <g id=\"text_1\">\n      <!-- 0 -->\n      <g transform=\"translate(48.36815 287.910437) scale(0.1 -0.1)\">\n       <defs>\n        <path id=\"DejaVuSans-30\" d=\"M 2034 4250 \nQ 1547 4250 1301 3770 \nQ 1056 3291 1056 2328 \nQ 1056 1369 1301 889 \nQ 1547 409 2034 409 \nQ 2525 409 2770 889 \nQ 3016 1369 3016 2328 \nQ 3016 3291 2770 3770 \nQ 2525 4250 2034 4250 \nz\nM 2034 4750 \nQ 2819 4750 3233 4129 \nQ 3647 3509 3647 2328 \nQ 3647 1150 3233 529 \nQ 2819 -91 2034 -91 \nQ 1250 -91 836 529 \nQ 422 1150 422 2328 \nQ 422 3509 836 4129 \nQ 1250 4750 2034 4750 \nz\n\" transform=\"scale(0.015625)\"/>\n       </defs>\n       <use xlink:href=\"#DejaVuSans-30\"/>\n      </g>\n     </g>\n    </g>\n    <g id=\"xtick_2\">\n     <g id=\"line2d_2\">\n      <g>\n       <use xlink:href=\"#m6cbab80628\" x=\"92.457362\" y=\"273.312\" style=\"stroke: #000000; stroke-width: 0.8\"/>\n      </g>\n     </g>\n     <g id=\"text_2\">\n      <!-- 1 -->\n      <g transform=\"translate(89.276112 287.910437) scale(0.1 -0.1)\">\n       <defs>\n        <path id=\"DejaVuSans-31\" d=\"M 794 531 \nL 1825 531 \nL 1825 4091 \nL 703 3866 \nL 703 4441 \nL 1819 4666 \nL 2450 4666 \nL 2450 531 \nL 3481 531 \nL 3481 0 \nL 794 0 \nL 794 531 \nz\n\" transform=\"scale(0.015625)\"/>\n       </defs>\n       <use xlink:href=\"#DejaVuSans-31\"/>\n      </g>\n     </g>\n    </g>\n    <g id=\"xtick_3\">\n     <g id=\"line2d_3\">\n      <g>\n       <use xlink:href=\"#m6cbab80628\" x=\"133.365324\" y=\"273.312\" style=\"stroke: #000000; stroke-width: 0.8\"/>\n      </g>\n     </g>\n     <g id=\"text_3\">\n      <!-- 2 -->\n      <g transform=\"translate(130.184074 287.910437) scale(0.1 -0.1)\">\n       <defs>\n        <path id=\"DejaVuSans-32\" d=\"M 1228 531 \nL 3431 531 \nL 3431 0 \nL 469 0 \nL 469 531 \nQ 828 903 1448 1529 \nQ 2069 2156 2228 2338 \nQ 2531 2678 2651 2914 \nQ 2772 3150 2772 3378 \nQ 2772 3750 2511 3984 \nQ 2250 4219 1831 4219 \nQ 1534 4219 1204 4116 \nQ 875 4013 500 3803 \nL 500 4441 \nQ 881 4594 1212 4672 \nQ 1544 4750 1819 4750 \nQ 2544 4750 2975 4387 \nQ 3406 4025 3406 3419 \nQ 3406 3131 3298 2873 \nQ 3191 2616 2906 2266 \nQ 2828 2175 2409 1742 \nQ 1991 1309 1228 531 \nz\n\" transform=\"scale(0.015625)\"/>\n       </defs>\n       <use xlink:href=\"#DejaVuSans-32\"/>\n      </g>\n     </g>\n    </g>\n    <g id=\"xtick_4\">\n     <g id=\"line2d_4\">\n      <g>\n       <use xlink:href=\"#m6cbab80628\" x=\"174.273286\" y=\"273.312\" style=\"stroke: #000000; stroke-width: 0.8\"/>\n      </g>\n     </g>\n     <g id=\"text_4\">\n      <!-- 3 -->\n      <g transform=\"translate(171.092036 287.910437) scale(0.1 -0.1)\">\n       <defs>\n        <path id=\"DejaVuSans-33\" d=\"M 2597 2516 \nQ 3050 2419 3304 2112 \nQ 3559 1806 3559 1356 \nQ 3559 666 3084 287 \nQ 2609 -91 1734 -91 \nQ 1441 -91 1130 -33 \nQ 819 25 488 141 \nL 488 750 \nQ 750 597 1062 519 \nQ 1375 441 1716 441 \nQ 2309 441 2620 675 \nQ 2931 909 2931 1356 \nQ 2931 1769 2642 2001 \nQ 2353 2234 1838 2234 \nL 1294 2234 \nL 1294 2753 \nL 1863 2753 \nQ 2328 2753 2575 2939 \nQ 2822 3125 2822 3475 \nQ 2822 3834 2567 4026 \nQ 2313 4219 1838 4219 \nQ 1578 4219 1281 4162 \nQ 984 4106 628 3988 \nL 628 4550 \nQ 988 4650 1302 4700 \nQ 1616 4750 1894 4750 \nQ 2613 4750 3031 4423 \nQ 3450 4097 3450 3541 \nQ 3450 3153 3228 2886 \nQ 3006 2619 2597 2516 \nz\n\" transform=\"scale(0.015625)\"/>\n       </defs>\n       <use xlink:href=\"#DejaVuSans-33\"/>\n      </g>\n     </g>\n    </g>\n    <g id=\"xtick_5\">\n     <g id=\"line2d_5\">\n      <g>\n       <use xlink:href=\"#m6cbab80628\" x=\"215.181248\" y=\"273.312\" style=\"stroke: #000000; stroke-width: 0.8\"/>\n      </g>\n     </g>\n     <g id=\"text_5\">\n      <!-- 4 -->\n      <g transform=\"translate(211.999998 287.910437) scale(0.1 -0.1)\">\n       <defs>\n        <path id=\"DejaVuSans-34\" d=\"M 2419 4116 \nL 825 1625 \nL 2419 1625 \nL 2419 4116 \nz\nM 2253 4666 \nL 3047 4666 \nL 3047 1625 \nL 3713 1625 \nL 3713 1100 \nL 3047 1100 \nL 3047 0 \nL 2419 0 \nL 2419 1100 \nL 313 1100 \nL 313 1709 \nL 2253 4666 \nz\n\" transform=\"scale(0.015625)\"/>\n       </defs>\n       <use xlink:href=\"#DejaVuSans-34\"/>\n      </g>\n     </g>\n    </g>\n    <g id=\"xtick_6\">\n     <g id=\"line2d_6\">\n      <g>\n       <use xlink:href=\"#m6cbab80628\" x=\"256.08921\" y=\"273.312\" style=\"stroke: #000000; stroke-width: 0.8\"/>\n      </g>\n     </g>\n     <g id=\"text_6\">\n      <!-- 5 -->\n      <g transform=\"translate(252.90796 287.910437) scale(0.1 -0.1)\">\n       <defs>\n        <path id=\"DejaVuSans-35\" d=\"M 691 4666 \nL 3169 4666 \nL 3169 4134 \nL 1269 4134 \nL 1269 2991 \nQ 1406 3038 1543 3061 \nQ 1681 3084 1819 3084 \nQ 2600 3084 3056 2656 \nQ 3513 2228 3513 1497 \nQ 3513 744 3044 326 \nQ 2575 -91 1722 -91 \nQ 1428 -91 1123 -41 \nQ 819 9 494 109 \nL 494 744 \nQ 775 591 1075 516 \nQ 1375 441 1709 441 \nQ 2250 441 2565 725 \nQ 2881 1009 2881 1497 \nQ 2881 1984 2565 2268 \nQ 2250 2553 1709 2553 \nQ 1456 2553 1204 2497 \nQ 953 2441 691 2322 \nL 691 4666 \nz\n\" transform=\"scale(0.015625)\"/>\n       </defs>\n       <use xlink:href=\"#DejaVuSans-35\"/>\n      </g>\n     </g>\n    </g>\n    <g id=\"xtick_7\">\n     <g id=\"line2d_7\">\n      <g>\n       <use xlink:href=\"#m6cbab80628\" x=\"296.997172\" y=\"273.312\" style=\"stroke: #000000; stroke-width: 0.8\"/>\n      </g>\n     </g>\n     <g id=\"text_7\">\n      <!-- 6 -->\n      <g transform=\"translate(293.815922 287.910437) scale(0.1 -0.1)\">\n       <defs>\n        <path id=\"DejaVuSans-36\" d=\"M 2113 2584 \nQ 1688 2584 1439 2293 \nQ 1191 2003 1191 1497 \nQ 1191 994 1439 701 \nQ 1688 409 2113 409 \nQ 2538 409 2786 701 \nQ 3034 994 3034 1497 \nQ 3034 2003 2786 2293 \nQ 2538 2584 2113 2584 \nz\nM 3366 4563 \nL 3366 3988 \nQ 3128 4100 2886 4159 \nQ 2644 4219 2406 4219 \nQ 1781 4219 1451 3797 \nQ 1122 3375 1075 2522 \nQ 1259 2794 1537 2939 \nQ 1816 3084 2150 3084 \nQ 2853 3084 3261 2657 \nQ 3669 2231 3669 1497 \nQ 3669 778 3244 343 \nQ 2819 -91 2113 -91 \nQ 1303 -91 875 529 \nQ 447 1150 447 2328 \nQ 447 3434 972 4092 \nQ 1497 4750 2381 4750 \nQ 2619 4750 2861 4703 \nQ 3103 4656 3366 4563 \nz\n\" transform=\"scale(0.015625)\"/>\n       </defs>\n       <use xlink:href=\"#DejaVuSans-36\"/>\n      </g>\n     </g>\n    </g>\n    <g id=\"xtick_8\">\n     <g id=\"line2d_8\">\n      <g>\n       <use xlink:href=\"#m6cbab80628\" x=\"337.905134\" y=\"273.312\" style=\"stroke: #000000; stroke-width: 0.8\"/>\n      </g>\n     </g>\n     <g id=\"text_8\">\n      <!-- 7 -->\n      <g transform=\"translate(334.723884 287.910437) scale(0.1 -0.1)\">\n       <defs>\n        <path id=\"DejaVuSans-37\" d=\"M 525 4666 \nL 3525 4666 \nL 3525 4397 \nL 1831 0 \nL 1172 0 \nL 2766 4134 \nL 525 4134 \nL 525 4666 \nz\n\" transform=\"scale(0.015625)\"/>\n       </defs>\n       <use xlink:href=\"#DejaVuSans-37\"/>\n      </g>\n     </g>\n    </g>\n    <g id=\"xtick_9\">\n     <g id=\"line2d_9\">\n      <g>\n       <use xlink:href=\"#m6cbab80628\" x=\"378.813096\" y=\"273.312\" style=\"stroke: #000000; stroke-width: 0.8\"/>\n      </g>\n     </g>\n     <g id=\"text_9\">\n      <!-- 8 -->\n      <g transform=\"translate(375.631846 287.910437) scale(0.1 -0.1)\">\n       <defs>\n        <path id=\"DejaVuSans-38\" d=\"M 2034 2216 \nQ 1584 2216 1326 1975 \nQ 1069 1734 1069 1313 \nQ 1069 891 1326 650 \nQ 1584 409 2034 409 \nQ 2484 409 2743 651 \nQ 3003 894 3003 1313 \nQ 3003 1734 2745 1975 \nQ 2488 2216 2034 2216 \nz\nM 1403 2484 \nQ 997 2584 770 2862 \nQ 544 3141 544 3541 \nQ 544 4100 942 4425 \nQ 1341 4750 2034 4750 \nQ 2731 4750 3128 4425 \nQ 3525 4100 3525 3541 \nQ 3525 3141 3298 2862 \nQ 3072 2584 2669 2484 \nQ 3125 2378 3379 2068 \nQ 3634 1759 3634 1313 \nQ 3634 634 3220 271 \nQ 2806 -91 2034 -91 \nQ 1263 -91 848 271 \nQ 434 634 434 1313 \nQ 434 1759 690 2068 \nQ 947 2378 1403 2484 \nz\nM 1172 3481 \nQ 1172 3119 1398 2916 \nQ 1625 2713 2034 2713 \nQ 2441 2713 2670 2916 \nQ 2900 3119 2900 3481 \nQ 2900 3844 2670 4047 \nQ 2441 4250 2034 4250 \nQ 1625 4250 1398 4047 \nQ 1172 3844 1172 3481 \nz\n\" transform=\"scale(0.015625)\"/>\n       </defs>\n       <use xlink:href=\"#DejaVuSans-38\"/>\n      </g>\n     </g>\n    </g>\n   </g>\n   <g id=\"matplotlib.axis_2\">\n    <g id=\"ytick_1\">\n     <g id=\"line2d_10\">\n      <defs>\n       <path id=\"m90f92a310d\" d=\"M 0 0 \nL -3.5 0 \n\" style=\"stroke: #000000; stroke-width: 0.8\"/>\n      </defs>\n      <g>\n       <use xlink:href=\"#m90f92a310d\" x=\"36.465625\" y=\"273.312\" style=\"stroke: #000000; stroke-width: 0.8\"/>\n      </g>\n     </g>\n     <g id=\"text_10\">\n      <!-- 0.00 -->\n      <g transform=\"translate(7.2 277.111219) scale(0.1 -0.1)\">\n       <defs>\n        <path id=\"DejaVuSans-2e\" d=\"M 684 794 \nL 1344 794 \nL 1344 0 \nL 684 0 \nL 684 794 \nz\n\" transform=\"scale(0.015625)\"/>\n       </defs>\n       <use xlink:href=\"#DejaVuSans-30\"/>\n       <use xlink:href=\"#DejaVuSans-2e\" x=\"63.623047\"/>\n       <use xlink:href=\"#DejaVuSans-30\" x=\"95.410156\"/>\n       <use xlink:href=\"#DejaVuSans-30\" x=\"159.033203\"/>\n      </g>\n     </g>\n    </g>\n    <g id=\"ytick_2\">\n     <g id=\"line2d_11\">\n      <g>\n       <use xlink:href=\"#m90f92a310d\" x=\"36.465625\" y=\"242.073137\" style=\"stroke: #000000; stroke-width: 0.8\"/>\n      </g>\n     </g>\n     <g id=\"text_11\">\n      <!-- 0.05 -->\n      <g transform=\"translate(7.2 245.872356) scale(0.1 -0.1)\">\n       <use xlink:href=\"#DejaVuSans-30\"/>\n       <use xlink:href=\"#DejaVuSans-2e\" x=\"63.623047\"/>\n       <use xlink:href=\"#DejaVuSans-30\" x=\"95.410156\"/>\n       <use xlink:href=\"#DejaVuSans-35\" x=\"159.033203\"/>\n      </g>\n     </g>\n    </g>\n    <g id=\"ytick_3\">\n     <g id=\"line2d_12\">\n      <g>\n       <use xlink:href=\"#m90f92a310d\" x=\"36.465625\" y=\"210.834275\" style=\"stroke: #000000; stroke-width: 0.8\"/>\n      </g>\n     </g>\n     <g id=\"text_12\">\n      <!-- 0.10 -->\n      <g transform=\"translate(7.2 214.633493) scale(0.1 -0.1)\">\n       <use xlink:href=\"#DejaVuSans-30\"/>\n       <use xlink:href=\"#DejaVuSans-2e\" x=\"63.623047\"/>\n       <use xlink:href=\"#DejaVuSans-31\" x=\"95.410156\"/>\n       <use xlink:href=\"#DejaVuSans-30\" x=\"159.033203\"/>\n      </g>\n     </g>\n    </g>\n    <g id=\"ytick_4\">\n     <g id=\"line2d_13\">\n      <g>\n       <use xlink:href=\"#m90f92a310d\" x=\"36.465625\" y=\"179.595412\" style=\"stroke: #000000; stroke-width: 0.8\"/>\n      </g>\n     </g>\n     <g id=\"text_13\">\n      <!-- 0.15 -->\n      <g transform=\"translate(7.2 183.394631) scale(0.1 -0.1)\">\n       <use xlink:href=\"#DejaVuSans-30\"/>\n       <use xlink:href=\"#DejaVuSans-2e\" x=\"63.623047\"/>\n       <use xlink:href=\"#DejaVuSans-31\" x=\"95.410156\"/>\n       <use xlink:href=\"#DejaVuSans-35\" x=\"159.033203\"/>\n      </g>\n     </g>\n    </g>\n    <g id=\"ytick_5\">\n     <g id=\"line2d_14\">\n      <g>\n       <use xlink:href=\"#m90f92a310d\" x=\"36.465625\" y=\"148.356549\" style=\"stroke: #000000; stroke-width: 0.8\"/>\n      </g>\n     </g>\n     <g id=\"text_14\">\n      <!-- 0.20 -->\n      <g transform=\"translate(7.2 152.155768) scale(0.1 -0.1)\">\n       <use xlink:href=\"#DejaVuSans-30\"/>\n       <use xlink:href=\"#DejaVuSans-2e\" x=\"63.623047\"/>\n       <use xlink:href=\"#DejaVuSans-32\" x=\"95.410156\"/>\n       <use xlink:href=\"#DejaVuSans-30\" x=\"159.033203\"/>\n      </g>\n     </g>\n    </g>\n    <g id=\"ytick_6\">\n     <g id=\"line2d_15\">\n      <g>\n       <use xlink:href=\"#m90f92a310d\" x=\"36.465625\" y=\"117.117687\" style=\"stroke: #000000; stroke-width: 0.8\"/>\n      </g>\n     </g>\n     <g id=\"text_15\">\n      <!-- 0.25 -->\n      <g transform=\"translate(7.2 120.916905) scale(0.1 -0.1)\">\n       <use xlink:href=\"#DejaVuSans-30\"/>\n       <use xlink:href=\"#DejaVuSans-2e\" x=\"63.623047\"/>\n       <use xlink:href=\"#DejaVuSans-32\" x=\"95.410156\"/>\n       <use xlink:href=\"#DejaVuSans-35\" x=\"159.033203\"/>\n      </g>\n     </g>\n    </g>\n    <g id=\"ytick_7\">\n     <g id=\"line2d_16\">\n      <g>\n       <use xlink:href=\"#m90f92a310d\" x=\"36.465625\" y=\"85.878824\" style=\"stroke: #000000; stroke-width: 0.8\"/>\n      </g>\n     </g>\n     <g id=\"text_16\">\n      <!-- 0.30 -->\n      <g transform=\"translate(7.2 89.678043) scale(0.1 -0.1)\">\n       <use xlink:href=\"#DejaVuSans-30\"/>\n       <use xlink:href=\"#DejaVuSans-2e\" x=\"63.623047\"/>\n       <use xlink:href=\"#DejaVuSans-33\" x=\"95.410156\"/>\n       <use xlink:href=\"#DejaVuSans-30\" x=\"159.033203\"/>\n      </g>\n     </g>\n    </g>\n    <g id=\"ytick_8\">\n     <g id=\"line2d_17\">\n      <g>\n       <use xlink:href=\"#m90f92a310d\" x=\"36.465625\" y=\"54.639961\" style=\"stroke: #000000; stroke-width: 0.8\"/>\n      </g>\n     </g>\n     <g id=\"text_17\">\n      <!-- 0.35 -->\n      <g transform=\"translate(7.2 58.43918) scale(0.1 -0.1)\">\n       <use xlink:href=\"#DejaVuSans-30\"/>\n       <use xlink:href=\"#DejaVuSans-2e\" x=\"63.623047\"/>\n       <use xlink:href=\"#DejaVuSans-33\" x=\"95.410156\"/>\n       <use xlink:href=\"#DejaVuSans-35\" x=\"159.033203\"/>\n      </g>\n     </g>\n    </g>\n    <g id=\"ytick_9\">\n     <g id=\"line2d_18\">\n      <g>\n       <use xlink:href=\"#m90f92a310d\" x=\"36.465625\" y=\"23.401098\" style=\"stroke: #000000; stroke-width: 0.8\"/>\n      </g>\n     </g>\n     <g id=\"text_18\">\n      <!-- 0.40 -->\n      <g transform=\"translate(7.2 27.200317) scale(0.1 -0.1)\">\n       <use xlink:href=\"#DejaVuSans-30\"/>\n       <use xlink:href=\"#DejaVuSans-2e\" x=\"63.623047\"/>\n       <use xlink:href=\"#DejaVuSans-34\" x=\"95.410156\"/>\n       <use xlink:href=\"#DejaVuSans-30\" x=\"159.033203\"/>\n      </g>\n     </g>\n    </g>\n   </g>\n   <g id=\"line2d_19\">\n    <path d=\"M 52.698352 264.719605 \nL 55.901923 235.592892 \nL 59.806814 200.812662 \nL 62.499385 178.886794 \nL 64.782869 161.870993 \nL 67.421312 144.080281 \nL 70.094635 128.0852 \nL 72.321658 116.275354 \nL 73.705189 109.607085 \nL 76.06193 99.379108 \nL 78.078819 91.706827 \nL 80.073339 85.046789 \nL 82.182525 78.950643 \nL 83.926144 74.604235 \nL 85.644652 70.899524 \nL 87.375672 67.717081 \nL 88.947123 65.279109 \nL 90.432723 63.347746 \nL 91.977591 61.703699 \nL 93.585184 60.365559 \nL 95.486327 59.243414 \nL 96.777134 58.748773 \nL 98.29332 58.427146 \nL 99.702692 58.365529 \nL 101.166331 58.529329 \nL 102.635363 58.913185 \nL 104.18926 59.543417 \nL 105.763526 60.40143 \nL 107.601631 61.662425 \nL 109.52699 63.258595 \nL 111.761737 65.431646 \nL 114.135267 68.077111 \nL 116.698691 71.277994 \nL 119.563824 75.220532 \nL 122.93704 80.27584 \nL 126.857127 86.60003 \nL 131.384319 94.350618 \nL 137.491003 105.291104 \nL 159.73644 145.635904 \nL 165.367809 155.253734 \nL 171.226103 164.821124 \nL 176.661406 173.254883 \nL 181.76665 180.765153 \nL 186.754029 187.706287 \nL 191.562043 194.024212 \nL 196.273616 199.86127 \nL 201.166028 205.556939 \nL 205.927524 210.751048 \nL 209.838427 214.76699 \nL 215.298173 220.009207 \nL 219.548328 223.807702 \nL 226.147613 229.241175 \nL 230.759029 232.720542 \nL 234.544133 235.392206 \nL 239.988882 238.959887 \nL 245.466304 242.240984 \nL 249.858463 244.663507 \nL 254.527145 247.048318 \nL 261.468656 250.258312 \nL 265.410972 251.915782 \nL 275.94425 255.81635 \nL 280.820829 257.387064 \nL 287.66177 259.368102 \nL 294.900802 261.209659 \nL 296.646272 261.617849 \nL 315.465025 265.262794 \nL 332.269798 267.574814 \nL 354.614351 269.678052 \nL 365.229085 270.393412 \nL 377.352898 271.043588 \nL 377.352898 271.043588 \n\" clip-path=\"url(#pca54594887)\" style=\"fill: none; stroke: #ff7f0e; stroke-width: 3; stroke-linecap: square\"/>\n   </g>\n   <g id=\"line2d_20\">\n    <path d=\"M 52.698352 242.861098 \nL 55.235874 235.72349 \nL 57.375949 228.988632 \nL 60.124239 219.418306 \nL 62.872536 208.890503 \nL 65.515347 197.975261 \nL 69.229893 181.588805 \nL 73.705189 160.814459 \nL 82.042575 122.0204 \nL 85.644652 106.37552 \nL 88.646569 94.281179 \nL 91.082676 85.238783 \nL 93.585184 76.765262 \nL 96.254184 68.717897 \nL 98.363183 63.122848 \nL 100.264894 58.675319 \nL 101.994004 55.13141 \nL 103.864318 51.837519 \nL 105.529225 49.376101 \nL 107.08271 47.47588 \nL 108.621359 45.965967 \nL 110.065879 44.87954 \nL 111.471764 44.12351 \nL 112.783964 43.679634 \nL 113.887234 43.497113 \nL 115.168045 43.497795 \nL 116.513525 43.737113 \nL 117.944683 44.250431 \nL 119.36207 45.011174 \nL 120.935885 46.136641 \nL 122.542283 47.5744 \nL 124.286417 49.446334 \nL 125.991876 51.569111 \nL 128.118196 54.588889 \nL 130.247238 57.989866 \nL 132.804161 62.517295 \nL 135.622484 67.99158 \nL 138.817532 74.705915 \nL 142.833839 83.738022 \nL 147.776856 95.466337 \nL 157.569753 119.465087 \nL 164.856274 137.019706 \nL 170.267823 149.505693 \nL 175.160715 160.24661 \nL 179.897285 170.076657 \nL 184.223898 178.532969 \nL 187.684231 184.925425 \nL 191.850441 192.180755 \nL 196.031874 198.981079 \nL 199.973954 204.95878 \nL 203.437967 209.873931 \nL 207.20556 214.873487 \nL 209.838427 218.160596 \nL 214.733981 223.841156 \nL 218.642406 227.993876 \nL 222.787316 232.049915 \nL 226.713049 235.581598 \nL 231.483454 239.495715 \nL 234.544133 241.803549 \nL 239.988882 245.546719 \nL 245.075913 248.659522 \nL 248.105345 250.351914 \nL 252.875681 252.793062 \nL 257.977253 255.126522 \nL 263.250039 257.267651 \nL 265.410972 258.072526 \nL 275.94425 261.464946 \nL 280.820829 262.773416 \nL 287.66177 264.372694 \nL 294.900802 265.804868 \nL 296.646272 266.114791 \nL 315.465025 268.749074 \nL 332.269798 270.27871 \nL 354.614351 271.551697 \nL 377.352898 272.301097 \nL 377.352898 272.301097 \n\" clip-path=\"url(#pca54594887)\" style=\"fill: none; stroke: #2ca02c; stroke-width: 3; stroke-linecap: square\"/>\n   </g>\n   <g id=\"patch_53\">\n    <path d=\"M 36.465625 273.312 \nL 36.465625 7.2 \n\" style=\"fill: none; stroke: #000000; stroke-width: 0.8; stroke-linejoin: miter; stroke-linecap: square\"/>\n   </g>\n   <g id=\"patch_54\">\n    <path d=\"M 393.585625 273.312 \nL 393.585625 7.2 \n\" style=\"fill: none; stroke: #000000; stroke-width: 0.8; stroke-linejoin: miter; stroke-linecap: square\"/>\n   </g>\n   <g id=\"patch_55\">\n    <path d=\"M 36.465625 273.312 \nL 393.585625 273.312 \n\" style=\"fill: none; stroke: #000000; stroke-width: 0.8; stroke-linejoin: miter; stroke-linecap: square\"/>\n   </g>\n   <g id=\"patch_56\">\n    <path d=\"M 36.465625 7.2 \nL 393.585625 7.2 \n\" style=\"fill: none; stroke: #000000; stroke-width: 0.8; stroke-linejoin: miter; stroke-linecap: square\"/>\n   </g>\n   <g id=\"legend_1\">\n    <g id=\"patch_57\">\n     <path d=\"M 316.499688 59.234375 \nL 386.585625 59.234375 \nQ 388.585625 59.234375 388.585625 57.234375 \nL 388.585625 14.2 \nQ 388.585625 12.2 386.585625 12.2 \nL 316.499688 12.2 \nQ 314.499688 12.2 314.499688 14.2 \nL 314.499688 57.234375 \nQ 314.499688 59.234375 316.499688 59.234375 \nz\n\" style=\"fill: #ffffff; opacity: 0.8; stroke: #cccccc; stroke-linejoin: miter\"/>\n    </g>\n    <g id=\"patch_58\">\n     <path d=\"M 318.499688 23.798437 \nL 338.499688 23.798437 \nL 338.499688 16.798437 \nL 318.499688 16.798437 \nz\n\" style=\"fill: #1f77b4\"/>\n    </g>\n    <g id=\"text_19\">\n     <!-- data -->\n     <g transform=\"translate(346.499688 23.798437) scale(0.1 -0.1)\">\n      <defs>\n       <path id=\"DejaVuSans-64\" d=\"M 2906 2969 \nL 2906 4863 \nL 3481 4863 \nL 3481 0 \nL 2906 0 \nL 2906 525 \nQ 2725 213 2448 61 \nQ 2172 -91 1784 -91 \nQ 1150 -91 751 415 \nQ 353 922 353 1747 \nQ 353 2572 751 3078 \nQ 1150 3584 1784 3584 \nQ 2172 3584 2448 3432 \nQ 2725 3281 2906 2969 \nz\nM 947 1747 \nQ 947 1113 1208 752 \nQ 1469 391 1925 391 \nQ 2381 391 2643 752 \nQ 2906 1113 2906 1747 \nQ 2906 2381 2643 2742 \nQ 2381 3103 1925 3103 \nQ 1469 3103 1208 2742 \nQ 947 2381 947 1747 \nz\n\" transform=\"scale(0.015625)\"/>\n       <path id=\"DejaVuSans-61\" d=\"M 2194 1759 \nQ 1497 1759 1228 1600 \nQ 959 1441 959 1056 \nQ 959 750 1161 570 \nQ 1363 391 1709 391 \nQ 2188 391 2477 730 \nQ 2766 1069 2766 1631 \nL 2766 1759 \nL 2194 1759 \nz\nM 3341 1997 \nL 3341 0 \nL 2766 0 \nL 2766 531 \nQ 2569 213 2275 61 \nQ 1981 -91 1556 -91 \nQ 1019 -91 701 211 \nQ 384 513 384 1019 \nQ 384 1609 779 1909 \nQ 1175 2209 1959 2209 \nL 2766 2209 \nL 2766 2266 \nQ 2766 2663 2505 2880 \nQ 2244 3097 1772 3097 \nQ 1472 3097 1187 3025 \nQ 903 2953 641 2809 \nL 641 3341 \nQ 956 3463 1253 3523 \nQ 1550 3584 1831 3584 \nQ 2591 3584 2966 3190 \nQ 3341 2797 3341 1997 \nz\n\" transform=\"scale(0.015625)\"/>\n       <path id=\"DejaVuSans-74\" d=\"M 1172 4494 \nL 1172 3500 \nL 2356 3500 \nL 2356 3053 \nL 1172 3053 \nL 1172 1153 \nQ 1172 725 1289 603 \nQ 1406 481 1766 481 \nL 2356 481 \nL 2356 0 \nL 1766 0 \nQ 1100 0 847 248 \nQ 594 497 594 1153 \nL 594 3053 \nL 172 3053 \nL 172 3500 \nL 594 3500 \nL 594 4494 \nL 1172 4494 \nz\n\" transform=\"scale(0.015625)\"/>\n      </defs>\n      <use xlink:href=\"#DejaVuSans-64\"/>\n      <use xlink:href=\"#DejaVuSans-61\" x=\"63.476562\"/>\n      <use xlink:href=\"#DejaVuSans-74\" x=\"124.755859\"/>\n      <use xlink:href=\"#DejaVuSans-61\" x=\"163.964844\"/>\n     </g>\n    </g>\n    <g id=\"line2d_21\">\n     <path d=\"M 318.499688 34.976562 \nL 328.499688 34.976562 \nL 338.499688 34.976562 \n\" style=\"fill: none; stroke: #ff7f0e; stroke-width: 3; stroke-linecap: square\"/>\n    </g>\n    <g id=\"text_20\">\n     <!-- gamma -->\n     <g transform=\"translate(346.499688 38.476562) scale(0.1 -0.1)\">\n      <defs>\n       <path id=\"DejaVuSans-67\" d=\"M 2906 1791 \nQ 2906 2416 2648 2759 \nQ 2391 3103 1925 3103 \nQ 1463 3103 1205 2759 \nQ 947 2416 947 1791 \nQ 947 1169 1205 825 \nQ 1463 481 1925 481 \nQ 2391 481 2648 825 \nQ 2906 1169 2906 1791 \nz\nM 3481 434 \nQ 3481 -459 3084 -895 \nQ 2688 -1331 1869 -1331 \nQ 1566 -1331 1297 -1286 \nQ 1028 -1241 775 -1147 \nL 775 -588 \nQ 1028 -725 1275 -790 \nQ 1522 -856 1778 -856 \nQ 2344 -856 2625 -561 \nQ 2906 -266 2906 331 \nL 2906 616 \nQ 2728 306 2450 153 \nQ 2172 0 1784 0 \nQ 1141 0 747 490 \nQ 353 981 353 1791 \nQ 353 2603 747 3093 \nQ 1141 3584 1784 3584 \nQ 2172 3584 2450 3431 \nQ 2728 3278 2906 2969 \nL 2906 3500 \nL 3481 3500 \nL 3481 434 \nz\n\" transform=\"scale(0.015625)\"/>\n       <path id=\"DejaVuSans-6d\" d=\"M 3328 2828 \nQ 3544 3216 3844 3400 \nQ 4144 3584 4550 3584 \nQ 5097 3584 5394 3201 \nQ 5691 2819 5691 2113 \nL 5691 0 \nL 5113 0 \nL 5113 2094 \nQ 5113 2597 4934 2840 \nQ 4756 3084 4391 3084 \nQ 3944 3084 3684 2787 \nQ 3425 2491 3425 1978 \nL 3425 0 \nL 2847 0 \nL 2847 2094 \nQ 2847 2600 2669 2842 \nQ 2491 3084 2119 3084 \nQ 1678 3084 1418 2786 \nQ 1159 2488 1159 1978 \nL 1159 0 \nL 581 0 \nL 581 3500 \nL 1159 3500 \nL 1159 2956 \nQ 1356 3278 1631 3431 \nQ 1906 3584 2284 3584 \nQ 2666 3584 2933 3390 \nQ 3200 3197 3328 2828 \nz\n\" transform=\"scale(0.015625)\"/>\n      </defs>\n      <use xlink:href=\"#DejaVuSans-67\"/>\n      <use xlink:href=\"#DejaVuSans-61\" x=\"63.476562\"/>\n      <use xlink:href=\"#DejaVuSans-6d\" x=\"124.755859\"/>\n      <use xlink:href=\"#DejaVuSans-6d\" x=\"222.167969\"/>\n      <use xlink:href=\"#DejaVuSans-61\" x=\"319.580078\"/>\n     </g>\n    </g>\n    <g id=\"line2d_22\">\n     <path d=\"M 318.499688 49.654687 \nL 328.499688 49.654687 \nL 338.499688 49.654687 \n\" style=\"fill: none; stroke: #2ca02c; stroke-width: 3; stroke-linecap: square\"/>\n    </g>\n    <g id=\"text_21\">\n     <!-- gumbel -->\n     <g transform=\"translate(346.499688 53.154687) scale(0.1 -0.1)\">\n      <defs>\n       <path id=\"DejaVuSans-75\" d=\"M 544 1381 \nL 544 3500 \nL 1119 3500 \nL 1119 1403 \nQ 1119 906 1312 657 \nQ 1506 409 1894 409 \nQ 2359 409 2629 706 \nQ 2900 1003 2900 1516 \nL 2900 3500 \nL 3475 3500 \nL 3475 0 \nL 2900 0 \nL 2900 538 \nQ 2691 219 2414 64 \nQ 2138 -91 1772 -91 \nQ 1169 -91 856 284 \nQ 544 659 544 1381 \nz\nM 1991 3584 \nL 1991 3584 \nz\n\" transform=\"scale(0.015625)\"/>\n       <path id=\"DejaVuSans-62\" d=\"M 3116 1747 \nQ 3116 2381 2855 2742 \nQ 2594 3103 2138 3103 \nQ 1681 3103 1420 2742 \nQ 1159 2381 1159 1747 \nQ 1159 1113 1420 752 \nQ 1681 391 2138 391 \nQ 2594 391 2855 752 \nQ 3116 1113 3116 1747 \nz\nM 1159 2969 \nQ 1341 3281 1617 3432 \nQ 1894 3584 2278 3584 \nQ 2916 3584 3314 3078 \nQ 3713 2572 3713 1747 \nQ 3713 922 3314 415 \nQ 2916 -91 2278 -91 \nQ 1894 -91 1617 61 \nQ 1341 213 1159 525 \nL 1159 0 \nL 581 0 \nL 581 4863 \nL 1159 4863 \nL 1159 2969 \nz\n\" transform=\"scale(0.015625)\"/>\n       <path id=\"DejaVuSans-65\" d=\"M 3597 1894 \nL 3597 1613 \nL 953 1613 \nQ 991 1019 1311 708 \nQ 1631 397 2203 397 \nQ 2534 397 2845 478 \nQ 3156 559 3463 722 \nL 3463 178 \nQ 3153 47 2828 -22 \nQ 2503 -91 2169 -91 \nQ 1331 -91 842 396 \nQ 353 884 353 1716 \nQ 353 2575 817 3079 \nQ 1281 3584 2069 3584 \nQ 2775 3584 3186 3129 \nQ 3597 2675 3597 1894 \nz\nM 3022 2063 \nQ 3016 2534 2758 2815 \nQ 2500 3097 2075 3097 \nQ 1594 3097 1305 2825 \nQ 1016 2553 972 2059 \nL 3022 2063 \nz\n\" transform=\"scale(0.015625)\"/>\n       <path id=\"DejaVuSans-6c\" d=\"M 603 4863 \nL 1178 4863 \nL 1178 0 \nL 603 0 \nL 603 4863 \nz\n\" transform=\"scale(0.015625)\"/>\n      </defs>\n      <use xlink:href=\"#DejaVuSans-67\"/>\n      <use xlink:href=\"#DejaVuSans-75\" x=\"63.476562\"/>\n      <use xlink:href=\"#DejaVuSans-6d\" x=\"126.855469\"/>\n      <use xlink:href=\"#DejaVuSans-62\" x=\"224.267578\"/>\n      <use xlink:href=\"#DejaVuSans-65\" x=\"287.744141\"/>\n      <use xlink:href=\"#DejaVuSans-6c\" x=\"349.267578\"/>\n     </g>\n    </g>\n   </g>\n  </g>\n </g>\n <defs>\n  <clipPath id=\"pca54594887\">\n   <rect x=\"36.465625\" y=\"7.2\" width=\"357.12\" height=\"266.112\"/>\n  </clipPath>\n </defs>\n</svg>\n",
      "text/plain": [
       "<Figure size 640x480 with 1 Axes>"
      ]
     },
     "metadata": {},
     "output_type": "display_data"
    }
   ],
   "source": [
    "gamma_distr = lambda x, k: x**(k - 1) * np.exp(-x) / scipy.special.gamma(k)\n",
    "gumbel_distr = lambda x, mu: np.exp(-(x - mu)) * np.exp(-np.exp(-(x - mu)))\n",
    "\n",
    "k_opt = res_gamma.x.item()\n",
    "mu_opt = res_gumbel.x.item()\n",
    "\n",
    "x_sorted = np.sort(x)\n",
    "\n",
    "plt.hist(x, bins=50, density=True, label='data')\n",
    "plt.plot(x_sorted, gamma_distr(x_sorted, k_opt), label='gamma', lw=3)\n",
    "plt.plot(x_sorted, gumbel_distr(x_sorted, mu_opt), label='gumbel', lw=3)\n",
    "plt.legend();"
   ]
  },
  {
   "cell_type": "markdown",
   "metadata": {},
   "source": [
    "### Automatic differentiation\n",
    "\n",
    "Some optimization methods like BFGS (Broyden–Fletcher–Goldfarb–Shanno) use first and second order derivatives of given function. To simplify calculations of gradients, jacobians and hessians, we are going to employ an autograd package, able to differentiate native python and numpy code. \n",
    "\n",
    "Package: https://github.com/HIPS/autograd\n",
    "\n",
    "This package is a \"drop-in\" replacement for many numpy and some scipy methods. To check what special functions are supported you need to look through [the source code](https://github.com/HIPS/autograd/blob/master/autograd/scipy/special.py) of correspondent module.\n",
    "\n",
    "Automatic differentiation (autograd) mechanics is not a numerical approximations (a.k.a finite difference methods). Instead of this, using chain rules of differentiation it tracks every elementary operation performed on input data and stores a gradient as a numerical value.\n",
    "\n",
    "- examples of computational graphs\\\n",
    "  https://en.wikipedia.org/wiki/Automatic_differentiation\n",
    "  \n",
    "\n",
    "- explanation of autograd mechanics\\\n",
    "  https://github.com/HIPS/autograd/blob/master/docs/tutorial.md#whats-going-on-under-the-hood\n",
    "  \n",
    "\n",
    "There are other framework with similar abilities, for instance \n",
    "[PyTorch](https://pytorch.org/), \n",
    "[JAX](https://github.com/google/jax) (successor of autograd), \n",
    "[TensorFlow](https://www.tensorflow.org/), \n",
    "[Theano](https://github.com/Theano/Theano), \n",
    "[MATLAB](https://www.mathworks.com/help/deeplearning/ug/include-automatic-differentiation.html) and even\n",
    "[StalinGRAD](https://github.com/Functional-AutoDiff/STALINGRAD) :)\n",
    "\n",
    "To install autograd in your conda/venv environment (my is called `base`) run\n",
    "\n",
    "`(base) $ pip install autograd`\n",
    "\n",
    "Look through example below and check that native differentiation works with Cobb-Douglas production function\n",
    "\n",
    "$$ f(x, y) = x^{0.8} \\ y^{0.2} $$"
   ]
  },
  {
   "cell_type": "code",
   "execution_count": 18,
   "metadata": {},
   "outputs": [
    {
     "name": "stdout",
     "output_type": "stream",
     "text": [
      "autograd : [0.867577416958159, 0.14459623615969314]\n",
      "analytical: [0.8675774169581589, 0.14459623615969314]\n"
     ]
    }
   ],
   "source": [
    "from autograd import grad\n",
    "\n",
    "def f(x, y):\n",
    "    return x**.8 * y**.2\n",
    "\n",
    "def f_x(x, y):\n",
    "    return .8 * x**-.2 * y**.2\n",
    "\n",
    "def f_y(x, y):\n",
    "    return .2 * x**.8 * y**-.8\n",
    "\n",
    "\n",
    "# first derivatives for f(x,y), x is position 0 (default) and y is 1\n",
    "dfdx = grad(f)\n",
    "dfdy = grad(f, 1)\n",
    "\n",
    "# suppose values for x and y are as follows\n",
    "x, y = 2.0, 3.0\n",
    "\n",
    "# evaluate the grads at x, y\n",
    "print(f\"autograd : {[dfdx(x,y), dfdy(x,y)]}\")\n",
    "\n",
    "# compare with analytical derivatives\n",
    "print(f\"analytical: {[f_x(x,y), f_y(x,y)]}\")"
   ]
  },
  {
   "cell_type": "markdown",
   "metadata": {},
   "source": [
    "Defining a function using only np & scipy fundamental methods will make it autograd ready. Note that we need to run import statements again to rewrite references.\n",
    "\n",
    "Take the code from the previous part and run BFGS optimization in the block below by calling\n",
    "    \n",
    "    minimize(func, init_param, jac=None, method = 'BFGS', options={'disp': True})\n",
    "                     \n",
    "Then provide optimizer with jacobians instead of `jac=None`. Use `jacobian` and `hessian` functions in the same way with `grad`.\n",
    "\n",
    "Answer the following questions\n",
    "\n",
    "4. Is there any difference between running the BFGS optimizer with and without a jacobian?\n",
    "\n",
    "\n",
    "5. Do you spot any changes in an iterations number between BFGS and Nelder-Mead optimizers?"
   ]
  },
  {
   "cell_type": "code",
   "execution_count": 19,
   "metadata": {},
   "outputs": [],
   "source": [
    "import autograd.numpy as np\n",
    "import autograd.scipy as scipy\n",
    "from autograd import jacobian, hessian\n",
    "\n",
    "neg_log_likelihood_gamma = lambda k: -((k - 1) * np.log(x) - x - np.log(scipy.special.gamma(k))).sum()\n",
    "neg_log_likelihood_gumbel = lambda mu: ((x - mu) + np.exp(-(x - mu))).sum()"
   ]
  },
  {
   "cell_type": "code",
   "execution_count": 21,
   "metadata": {},
   "outputs": [
    {
     "name": "stdout",
     "output_type": "stream",
     "text": [
      "Optimization terminated successfully.\n",
      "         Current function value: 1.244860\n",
      "         Iterations: 8\n",
      "         Function evaluations: 18\n",
      "         Gradient evaluations: 9\n"
     ]
    },
    {
     "data": {
      "text/plain": [
       "      fun: 1.2448602742366435\n",
       " hess_inv: array([[2.01236401]])\n",
       "      jac: array([-7.15255737e-07])\n",
       "  message: 'Optimization terminated successfully.'\n",
       "     nfev: 18\n",
       "      nit: 8\n",
       "     njev: 9\n",
       "   status: 0\n",
       "  success: True\n",
       "        x: array([2.47968601])"
      ]
     },
     "execution_count": 21,
     "metadata": {},
     "output_type": "execute_result"
    }
   ],
   "source": [
    "minimize(neg_log_likelihood_gamma, gamma_k0, method='BFGS', options={'disp': True}, jac=None)"
   ]
  },
  {
   "cell_type": "code",
   "execution_count": 27,
   "metadata": {},
   "outputs": [
    {
     "name": "stdout",
     "output_type": "stream",
     "text": [
      "Optimization terminated successfully.\n",
      "         Current function value: 1.000000\n",
      "         Iterations: 6\n",
      "         Function evaluations: 16\n",
      "         Gradient evaluations: 8\n"
     ]
    },
    {
     "data": {
      "text/plain": [
       "      fun: 1.0000000000000178\n",
       " hess_inv: array([[1.00179461]])\n",
       "      jac: array([1.93715096e-07])\n",
       "  message: 'Optimization terminated successfully.'\n",
       "     nfev: 16\n",
       "      nit: 6\n",
       "     njev: 8\n",
       "   status: 0\n",
       "  success: True\n",
       "        x: array([2.00000019])"
      ]
     },
     "execution_count": 27,
     "metadata": {},
     "output_type": "execute_result"
    }
   ],
   "source": [
    "minimize(neg_log_likelihood_gumbel, gumbel_mu0, method='BFGS', options={'disp': True}, jac=None)"
   ]
  },
  {
   "cell_type": "code",
   "execution_count": 28,
   "metadata": {},
   "outputs": [
    {
     "name": "stdout",
     "output_type": "stream",
     "text": [
      "Optimization terminated successfully.\n",
      "         Current function value: 1.244860\n",
      "         Iterations: 8\n",
      "         Function evaluations: 9\n",
      "         Gradient evaluations: 9\n"
     ]
    },
    {
     "data": {
      "text/plain": [
       "      fun: 1.2448602742366264\n",
       " hess_inv: array([[2.01236679]])\n",
       "      jac: array([-7.01819649e-07])\n",
       "  message: 'Optimization terminated successfully.'\n",
       "     nfev: 9\n",
       "      nit: 8\n",
       "     njev: 9\n",
       "   status: 0\n",
       "  success: True\n",
       "        x: array([2.47968603])"
      ]
     },
     "execution_count": 28,
     "metadata": {},
     "output_type": "execute_result"
    }
   ],
   "source": [
    "minimize(neg_log_likelihood_gamma, gamma_k0, method='BFGS', options={'disp': True}, jac=jacobian(neg_log_likelihood_gamma))"
   ]
  },
  {
   "cell_type": "code",
   "execution_count": 29,
   "metadata": {},
   "outputs": [
    {
     "name": "stdout",
     "output_type": "stream",
     "text": [
      "Optimization terminated successfully.\n",
      "         Current function value: 1.000000\n",
      "         Iterations: 6\n",
      "         Function evaluations: 8\n",
      "         Gradient evaluations: 8\n"
     ]
    },
    {
     "data": {
      "text/plain": [
       "      fun: 1.0000000000000195\n",
       " hess_inv: array([[1.00179905]])\n",
       "      jac: array([1.98153109e-07])\n",
       "  message: 'Optimization terminated successfully.'\n",
       "     nfev: 8\n",
       "      nit: 6\n",
       "     njev: 8\n",
       "   status: 0\n",
       "  success: True\n",
       "        x: array([2.0000002])"
      ]
     },
     "execution_count": 29,
     "metadata": {},
     "output_type": "execute_result"
    }
   ],
   "source": [
    "minimize(neg_log_likelihood_gumbel, gumbel_mu0, method='BFGS', options={'disp': True}, jac=jacobian(neg_log_likelihood_gumbel))"
   ]
  },
  {
   "cell_type": "markdown",
   "metadata": {},
   "source": [
    "When using BFGS optimizer without jacobian, one can notice that we need 2 times more function evaluations because the jacobian is estimated numerically using 2-point finite differences, according to scipy docs. Hence, it is better to provide jacobian for both computational efficiency and accuracy (avoid round-off errors in finite differences).\n",
    "\n",
    "There is also big difference between Nelder-Mead and BFGS in terms of iteration number. BFGS requires less iterations (8 vs 22 and 6 vs 21). It is not surprising because Nelder-Mead is a simplex, gradient-free method, and gradient-free optimization methods are known to require more iterations to converge than gradient-based methods."
   ]
  },
  {
   "cell_type": "markdown",
   "metadata": {},
   "source": [
    "# Problem 3. Markov chains"
   ]
  },
  {
   "cell_type": "markdown",
   "metadata": {},
   "source": [
    "## 3.1\n",
    "\n",
    "![Handwritten solution. Contact me if unavailable](3.1.jpg)"
   ]
  },
  {
   "cell_type": "markdown",
   "metadata": {},
   "source": [
    "## 3.2\n",
    "\n",
    "![Handwritten solution. Contact me if unavailable](3.2.jpg)"
   ]
  },
  {
   "cell_type": "markdown",
   "metadata": {},
   "source": []
  },
  {
   "cell_type": "markdown",
   "metadata": {},
   "source": [
    "Reference for Toeplitz eigenvectors expression: http://www.math.kent.edu/~reichel/publications/toep3.pdf (page 3)"
   ]
  }
 ],
 "metadata": {
  "kernelspec": {
   "display_name": "Python 3.10.6 ('stochastic')",
   "language": "python",
   "name": "python3"
  },
  "language_info": {
   "codemirror_mode": {
    "name": "ipython",
    "version": 3
   },
   "file_extension": ".py",
   "mimetype": "text/x-python",
   "name": "python",
   "nbconvert_exporter": "python",
   "pygments_lexer": "ipython3",
   "version": "3.10.6"
  },
  "vscode": {
   "interpreter": {
    "hash": "0f6232650046ef73703ce526cc600ff9ffad55f6654ab522e49ada9c0360a4fa"
   }
  }
 },
 "nbformat": 4,
 "nbformat_minor": 4
}
